{
 "cells": [
  {
   "cell_type": "code",
   "execution_count": 1,
   "metadata": {},
   "outputs": [
    {
     "data": {
      "application/vnd.jupyter.widget-view+json": {
       "model_id": "5b1036e5286d4e4f8f8777a4b0b69b32",
       "version_major": 2,
       "version_minor": 0
      },
      "text/plain": [
       "VBox()"
      ]
     },
     "metadata": {},
     "output_type": "display_data"
    },
    {
     "name": "stdout",
     "output_type": "stream",
     "text": [
      "Starting Spark application\n"
     ]
    },
    {
     "data": {
      "text/html": [
       "<table>\n",
       "<tr><th>ID</th><th>YARN Application ID</th><th>Kind</th><th>State</th><th>Spark UI</th><th>Driver log</th><th>Current session?</th></tr><tr><td>0</td><td>application_1598696338484_0001</td><td>pyspark</td><td>idle</td><td><a target=\"_blank\" href=\"http://ip-10-55-1-139.us-east-2.compute.internal:20888/proxy/application_1598696338484_0001/\">Link</a></td><td><a target=\"_blank\" href=\"http://ip-10-55-1-139.us-east-2.compute.internal:8042/node/containerlogs/container_1598696338484_0001_01_000001/livy\">Link</a></td><td>✔</td></tr></table>"
      ],
      "text/plain": [
       "<IPython.core.display.HTML object>"
      ]
     },
     "metadata": {},
     "output_type": "display_data"
    },
    {
     "data": {
      "application/vnd.jupyter.widget-view+json": {
       "model_id": "",
       "version_major": 2,
       "version_minor": 0
      },
      "text/plain": [
       "FloatProgress(value=0.0, bar_style='info', description='Progress:', layout=Layout(height='25px', width='50%'),…"
      ]
     },
     "metadata": {},
     "output_type": "display_data"
    },
    {
     "name": "stdout",
     "output_type": "stream",
     "text": [
      "SparkSession available as 'spark'.\n"
     ]
    },
    {
     "data": {
      "application/vnd.jupyter.widget-view+json": {
       "model_id": "",
       "version_major": 2,
       "version_minor": 0
      },
      "text/plain": [
       "FloatProgress(value=0.0, bar_style='info', description='Progress:', layout=Layout(height='25px', width='50%'),…"
      ]
     },
     "metadata": {},
     "output_type": "display_data"
    }
   ],
   "source": [
    "from pyspark.sql import SQLContext\n",
    "sqlContext = SQLContext(sc)\n",
    "from pyspark.sql.functions import *\n",
    "from pyspark.sql.types import *\n",
    "#sc.install_pypi_package(\"pandas==0.25.1\") #Install pandas version 0.25.1 \n",
    "#sc.install_pypi_package(\"matplotlib\", \"https://pypi.org/simple\") #Install matplotlib from given PyPI repository"
   ]
  },
  {
   "cell_type": "markdown",
   "metadata": {},
   "source": [
    "**DATA LOAD**\n"
   ]
  },
  {
   "cell_type": "code",
   "execution_count": 17,
   "metadata": {},
   "outputs": [
    {
     "data": {
      "application/vnd.jupyter.widget-view+json": {
       "model_id": "285809478e5c4c5cb159b46cc359cbe4",
       "version_major": 2,
       "version_minor": 0
      },
      "text/plain": [
       "VBox()"
      ]
     },
     "metadata": {},
     "output_type": "display_data"
    },
    {
     "data": {
      "application/vnd.jupyter.widget-view+json": {
       "model_id": "",
       "version_major": 2,
       "version_minor": 0
      },
      "text/plain": [
       "FloatProgress(value=0.0, bar_style='info', description='Progress:', layout=Layout(height='25px', width='50%'),…"
      ]
     },
     "metadata": {},
     "output_type": "display_data"
    }
   ],
   "source": [
    "#load stores\n",
    "customers  = sqlContext.read.json('s3://tfmbigdata/Files_Segunda_Entrega/stores.json')\n",
    "\n",
    "#load customers\n",
    "customers  = sqlContext.read.json('s3://tfmbigdata/Files_Segunda_Entrega/Customers.json')\n",
    "\n",
    "#load products\n",
    "products  = sqlContext.read.json('s3://tfmbigdata/Files_Segunda_Entrega/Products.json')"
   ]
  },
  {
   "cell_type": "code",
   "execution_count": 2,
   "metadata": {},
   "outputs": [
    {
     "data": {
      "application/vnd.jupyter.widget-view+json": {
       "model_id": "884d115f2df941cf80978dd0305afeda",
       "version_major": 2,
       "version_minor": 0
      },
      "text/plain": [
       "VBox()"
      ]
     },
     "metadata": {},
     "output_type": "display_data"
    },
    {
     "data": {
      "application/vnd.jupyter.widget-view+json": {
       "model_id": "",
       "version_major": 2,
       "version_minor": 0
      },
      "text/plain": [
       "FloatProgress(value=0.0, bar_style='info', description='Progress:', layout=Layout(height='25px', width='50%'),…"
      ]
     },
     "metadata": {},
     "output_type": "display_data"
    }
   ],
   "source": [
    "#load tickets\n",
    "\n",
    "text = sc.textFile(\"s3://tfmbigdata/Files_Segunda_Entrega/Tickets_part0.json,s3://tfmbigdata/Files_Segunda_Entrega/Tickets_part1.json,s3://tfmbigdata/Files_Segunda_Entrega/Tickets_part2.json,s3://tfmbigdata/Files_Segunda_Entrega/Tickets_part3.json,s3://tfmbigdata/Files_Segunda_Entrega/Tickets_part4.json,s3://tfmbigdata/Files_Segunda_Entrega/Tickets_part5.json,s3://tfmbigdata/Files_Segunda_Entrega/Tickets_part6.json,s3://tfmbigdata/Files_Segunda_Entrega/Tickets_part7.json,s3://tfmbigdata/Files_Segunda_Entrega/Tickets_part8.json,s3://tfmbigdata/Files_Segunda_Entrega/Tickets_part9.json,s3://tfmbigdata/Files_Segunda_Entrega/Tickets_part10.json,s3://tfmbigdata/Files_Segunda_Entrega/Tickets_part11.json,s3://tfmbigdata/Files_Segunda_Entrega/Tickets_part12.json,s3://tfmbigdata/Files_Segunda_Entrega/Tickets_part13.json,s3://tfmbigdata/Files_Segunda_Entrega/Tickets_part14.json,s3://tfmbigdata/Files_Segunda_Entrega/Tickets_part15.json,s3://tfmbigdata/Files_Segunda_Entrega/Tickets_part16.json,s3://tfmbigdata/Files_Segunda_Entrega/Tickets_part17.json,s3://tfmbigdata/Files_Segunda_Entrega/Tickets_part18.json,s3://tfmbigdata/Files_Segunda_Entrega/Tickets_part19.json\")\n",
    "\n",
    "tickets = spark.read.json(text)\n"
   ]
  },
  {
   "cell_type": "markdown",
   "metadata": {},
   "source": [
    "\n",
    "**RFM**"
   ]
  },
  {
   "cell_type": "code",
   "execution_count": 3,
   "metadata": {},
   "outputs": [
    {
     "data": {
      "application/vnd.jupyter.widget-view+json": {
       "model_id": "853ba0269e5d423e9281c28859fbf77f",
       "version_major": 2,
       "version_minor": 0
      },
      "text/plain": [
       "VBox()"
      ]
     },
     "metadata": {},
     "output_type": "display_data"
    },
    {
     "data": {
      "application/vnd.jupyter.widget-view+json": {
       "model_id": "",
       "version_major": 2,
       "version_minor": 0
      },
      "text/plain": [
       "FloatProgress(value=0.0, bar_style='info', description='Progress:', layout=Layout(height='25px', width='50%'),…"
      ]
     },
     "metadata": {},
     "output_type": "display_data"
    },
    {
     "name": "stdout",
     "output_type": "stream",
     "text": [
      "root\n",
      " |-- cardtype: string (nullable = true)\n",
      " |-- customerid: string (nullable = true)\n",
      " |-- datekey: string (nullable = true)\n",
      " |-- extendedamount: double (nullable = true)\n",
      " |-- linenumber: long (nullable = true)\n",
      " |-- originalamount: double (nullable = true)\n",
      " |-- productid: long (nullable = true)\n",
      " |-- quantity: double (nullable = true)\n",
      " |-- storeid: string (nullable = true)\n",
      " |-- ticketid: string (nullable = true)\n",
      " |-- totaldiscount: double (nullable = true)"
     ]
    }
   ],
   "source": [
    "tickets.printSchema()"
   ]
  },
  {
   "cell_type": "code",
   "execution_count": 41,
   "metadata": {},
   "outputs": [
    {
     "data": {
      "application/vnd.jupyter.widget-view+json": {
       "model_id": "8c9668357f5840d581e2b64823a4e342",
       "version_major": 2,
       "version_minor": 0
      },
      "text/plain": [
       "VBox()"
      ]
     },
     "metadata": {},
     "output_type": "display_data"
    },
    {
     "data": {
      "application/vnd.jupyter.widget-view+json": {
       "model_id": "",
       "version_major": 2,
       "version_minor": 0
      },
      "text/plain": [
       "FloatProgress(value=0.0, bar_style='info', description='Progress:', layout=Layout(height='25px', width='50%'),…"
      ]
     },
     "metadata": {},
     "output_type": "display_data"
    }
   ],
   "source": [
    "#transform data types\n",
    "tickets = tickets.withColumn(\"quantity\", tickets[\"quantity\"].cast(IntegerType()))\n",
    "tickets = tickets.withColumn(\"unitprice\", tickets[\"extendedamount\"].cast(DoubleType()))\n",
    "tickets = tickets.withColumn(\"date\", to_date(\"datekey\", \"yyyy-mm-dd\"))\n",
    "\n",
    "#calculate recency \n",
    "#max_df = tickets.select(max(\"date\")).collect() \n",
    "max_df = tickets.select(max(\"date\")).collect() \n",
    "max_val = max_df[0][0]\n",
    "tickets = tickets.withColumn('max_date',lit(max_val))\n",
    "tickets = tickets.withColumn(\"recencydays\", expr(\"datediff(max_date, date)\"))\n",
    "\n",
    "#calculate amount spent for item \n",
    "tickets = tickets.withColumn(\"total\", round(tickets[\"unitprice\"] * tickets[\"quantity\"], 2))"
   ]
  },
  {
   "cell_type": "code",
   "execution_count": 42,
   "metadata": {},
   "outputs": [
    {
     "data": {
      "application/vnd.jupyter.widget-view+json": {
       "model_id": "0d9ade962a09482eb27dcb575c2d01b8",
       "version_major": 2,
       "version_minor": 0
      },
      "text/plain": [
       "VBox()"
      ]
     },
     "metadata": {},
     "output_type": "display_data"
    },
    {
     "data": {
      "application/vnd.jupyter.widget-view+json": {
       "model_id": "",
       "version_major": 2,
       "version_minor": 0
      },
      "text/plain": [
       "FloatProgress(value=0.0, bar_style='info', description='Progress:', layout=Layout(height='25px', width='50%'),…"
      ]
     },
     "metadata": {},
     "output_type": "display_data"
    }
   ],
   "source": [
    "#calculate recency frequency and money by customer\n",
    "\n",
    "rfm_table = tickets.groupBy(\"customerid\")\\\n",
    "                        .agg(min(\"recencydays\").alias(\"recency\"), \\\n",
    "                             countDistinct(\"ticketid\").alias(\"frequency\"), \\\n",
    "                             sum(\"total\").alias(\"monetary\"))"
   ]
  },
  {
   "cell_type": "code",
   "execution_count": 9,
   "metadata": {},
   "outputs": [
    {
     "data": {
      "application/vnd.jupyter.widget-view+json": {
       "model_id": "2dd2fccc8d0044c390efa38d924225a9",
       "version_major": 2,
       "version_minor": 0
      },
      "text/plain": [
       "VBox()"
      ]
     },
     "metadata": {},
     "output_type": "display_data"
    },
    {
     "data": {
      "application/vnd.jupyter.widget-view+json": {
       "model_id": "",
       "version_major": 2,
       "version_minor": 0
      },
      "text/plain": [
       "FloatProgress(value=0.0, bar_style='info', description='Progress:', layout=Layout(height='25px', width='50%'),…"
      ]
     },
     "metadata": {},
     "output_type": "display_data"
    }
   ],
   "source": [
    "\n",
    "rfm_table.coalesce(1).write.format('com.databricks.spark.csv').save('s3://aws-emr-resources-821081922153-us-east-2/notebooks/data/output_rfm.csv',header = 'true')"
   ]
  },
  {
   "cell_type": "code",
   "execution_count": 19,
   "metadata": {},
   "outputs": [
    {
     "data": {
      "application/vnd.jupyter.widget-view+json": {
       "model_id": "f720c685391b46be84ce7d3ab0883687",
       "version_major": 2,
       "version_minor": 0
      },
      "text/plain": [
       "VBox()"
      ]
     },
     "metadata": {},
     "output_type": "display_data"
    },
    {
     "data": {
      "application/vnd.jupyter.widget-view+json": {
       "model_id": "",
       "version_major": 2,
       "version_minor": 0
      },
      "text/plain": [
       "FloatProgress(value=0.0, bar_style='info', description='Progress:', layout=Layout(height='25px', width='50%'),…"
      ]
     },
     "metadata": {},
     "output_type": "display_data"
    },
    {
     "name": "stdout",
     "output_type": "stream",
     "text": [
      "+-----------------+-------+---------+------------------+\n",
      "|       customerid|recency|frequency|          monetary|\n",
      "+-----------------+-------+---------+------------------+\n",
      "|77000000361655313|      0|       22| 754.4200000000001|\n",
      "|77000000401454219|      0|       41|            977.94|\n",
      "|77340000014507129|      1|       16|            213.64|\n",
      "|77000000286756763|      1|       25| 4413.639999999999|\n",
      "|77000000288269187|      0|       17|             532.2|\n",
      "|77000000491611645|      4|        9|206.98999999999998|\n",
      "|77000000426860362|      1|       33|1894.1399999999996|\n",
      "|77000000065262986|      2|       23|            365.54|\n",
      "|77340000015992587|      1|       26|            300.69|\n",
      "|77000000087916366|      0|       15|174.70000000000002|\n",
      "|77000000182437531|      3|       11|1423.9300000000003|\n",
      "|77000000071401922|      1|        8|            678.07|\n",
      "|77000000493458719|      0|       12|1700.7399999999998|\n",
      "|77000000057973048|      1|       13|162.94000000000003|\n",
      "|77000000271450260|      0|       15|            279.22|\n",
      "|77000000152400414|      1|       41| 872.1700000000002|\n",
      "|77000000269984105|      1|       11|            265.78|\n",
      "|77000000372388848|      3|        8|            131.97|\n",
      "|77000000328654943|      1|       20|306.09999999999997|\n",
      "|77000000152299922|      2|       21|            713.66|\n",
      "+-----------------+-------+---------+------------------+\n",
      "only showing top 20 rows"
     ]
    }
   ],
   "source": [
    "rfm_table.show()"
   ]
  },
  {
   "cell_type": "markdown",
   "metadata": {},
   "source": [
    "**RFM RECONCILIATION - TO BE DELETED**"
   ]
  },
  {
   "cell_type": "code",
   "execution_count": 10,
   "metadata": {},
   "outputs": [
    {
     "data": {
      "application/vnd.jupyter.widget-view+json": {
       "model_id": "3524f4a9211344ae96a637b79b9989ed",
       "version_major": 2,
       "version_minor": 0
      },
      "text/plain": [
       "VBox()"
      ]
     },
     "metadata": {},
     "output_type": "display_data"
    },
    {
     "data": {
      "application/vnd.jupyter.widget-view+json": {
       "model_id": "",
       "version_major": 2,
       "version_minor": 0
      },
      "text/plain": [
       "FloatProgress(value=0.0, bar_style='info', description='Progress:', layout=Layout(height='25px', width='50%'),…"
      ]
     },
     "metadata": {},
     "output_type": "display_data"
    },
    {
     "name": "stdout",
     "output_type": "stream",
     "text": [
      "+-----------------+-----+\n",
      "|       customerid|count|\n",
      "+-----------------+-----+\n",
      "|77000000589581063|    8|\n",
      "|77000000095667151|    8|\n",
      "|77000000259375312|    8|\n",
      "|77000000180113023|    8|\n",
      "|77000000157129940|    8|\n",
      "|77000000565181392|    8|\n",
      "|77000000275807209|    8|\n",
      "|77000000392952654|    8|\n",
      "|77000000071401922|    8|\n",
      "|77000000142728641|    8|\n",
      "|77000000278692571|    8|\n",
      "|77000000280875168|    8|\n",
      "|77000000262693003|    8|\n",
      "|77000000374570572|    8|\n",
      "|77000000518911228|    8|\n",
      "|77000000360465608|    8|\n",
      "|77000000202695981|    8|\n",
      "|77000000372388848|    8|\n",
      "|77000000527675566|    8|\n",
      "|77000000522589177|    8|\n",
      "+-----------------+-----+\n",
      "only showing top 20 rows"
     ]
    }
   ],
   "source": [
    "test=tickets.groupBy(\"customerid\").agg(countDistinct(\"ticketid\").alias(\"count\")).where('count > 1').sort('count', ascending=True).show()\n"
   ]
  },
  {
   "cell_type": "code",
   "execution_count": 24,
   "metadata": {},
   "outputs": [
    {
     "data": {
      "application/vnd.jupyter.widget-view+json": {
       "model_id": "9ea5bb0b18fd44d9b46ed12afeddbdb2",
       "version_major": 2,
       "version_minor": 0
      },
      "text/plain": [
       "VBox()"
      ]
     },
     "metadata": {},
     "output_type": "display_data"
    },
    {
     "data": {
      "application/vnd.jupyter.widget-view+json": {
       "model_id": "",
       "version_major": 2,
       "version_minor": 0
      },
      "text/plain": [
       "FloatProgress(value=0.0, bar_style='info', description='Progress:', layout=Layout(height='25px', width='50%'),…"
      ]
     },
     "metadata": {},
     "output_type": "display_data"
    },
    {
     "name": "stdout",
     "output_type": "stream",
     "text": [
      "+-----------------+--------------------+--------+---------+----------+----------+-----------+\n",
      "|       customerid|            ticketid|quantity|unitprice|      date|  max_date|recencydays|\n",
      "+-----------------+--------------------+--------+---------+----------+----------+-----------+\n",
      "|77000000361655313|10005047720190831...|       1|     0.47|2019-01-31|2019-01-31|          0|\n",
      "|77000000361655313|10005047720190831...|       1|     0.99|2019-01-31|2019-01-31|          0|\n",
      "|77000000361655313|10005047720190831...|       1|     1.59|2019-01-31|2019-01-31|          0|\n",
      "|77000000361655313|10005047720190831...|       1|     0.99|2019-01-31|2019-01-31|          0|\n",
      "|77000000361655313|10005047720190831...|       1|     2.19|2019-01-31|2019-01-31|          0|\n",
      "|77000000361655313|10005047720190831...|       1|     0.99|2019-01-31|2019-01-31|          0|\n",
      "|77000000361655313|10005047720190831...|       1|     0.85|2019-01-31|2019-01-31|          0|\n",
      "|77000000361655313|10005047720190831...|       1|     1.39|2019-01-31|2019-01-31|          0|\n",
      "|77000000361655313|10005047720190831...|       0|     0.46|2019-01-31|2019-01-31|          0|\n",
      "|77000000361655313|10005047720190831...|       1|     4.19|2019-01-31|2019-01-31|          0|\n",
      "|77000000361655313|10005047720190831...|       0|     4.54|2019-01-31|2019-01-31|          0|\n",
      "|77000000361655313|10005047720190831...|       1|     0.39|2019-01-31|2019-01-31|          0|\n",
      "|77000000361655313|10005047720190831...|       1|     0.43|2019-01-31|2019-01-31|          0|\n",
      "|77000000361655313|10005047720190831...|       1|     1.55|2019-01-31|2019-01-31|          0|\n",
      "|77000000361655313|10005047720190831...|       1|     0.47|2019-01-31|2019-01-31|          0|\n",
      "|77000000361655313|10005047720190831...|       1|      0.0|2019-01-31|2019-01-31|          0|\n",
      "|77000000361655313|10005047720190831...|       0|     5.32|2019-01-31|2019-01-31|          0|\n",
      "|77000000361655313|10005047720190831...|       1|     0.89|2019-01-31|2019-01-31|          0|\n",
      "|77000000361655313|10005047720190831...|       1|     0.95|2019-01-31|2019-01-31|          0|\n",
      "|77000000361655313|10005047720190831...|       1|     0.39|2019-01-31|2019-01-31|          0|\n",
      "|77000000361655313|10005047720190831...|       1|     2.69|2019-01-31|2019-01-31|          0|\n",
      "|77000000361655313|10005047720190831...|       3|     1.47|2019-01-31|2019-01-31|          0|\n",
      "|77000000361655313|10005047720190831...|       1|     1.25|2019-01-31|2019-01-31|          0|\n",
      "|77000000361655313|10005047720190831...|       1|     2.99|2019-01-31|2019-01-31|          0|\n",
      "|77000000361655313|10005047520190731...|       1|     1.49|2019-01-31|2019-01-31|          0|\n",
      "|77000000361655313|10005047520190731...|       1|     2.29|2019-01-31|2019-01-31|          0|\n",
      "|77000000361655313|10005047520190731...|       1|     0.99|2019-01-31|2019-01-31|          0|\n",
      "|77000000361655313|10005047520190731...|       1|      1.0|2019-01-31|2019-01-31|          0|\n",
      "|77000000361655313|10005047720190831...|       1|     1.39|2019-01-31|2019-01-31|          0|\n",
      "|77000000361655313|10005047520190731...|       1|     1.79|2019-01-31|2019-01-31|          0|\n",
      "|77000000361655313|10005047520190731...|       1|     1.19|2019-01-31|2019-01-31|          0|\n",
      "|77000000361655313|10005047520190731...|       1|     0.79|2019-01-31|2019-01-31|          0|\n",
      "|77000000361655313|10005047520190731...|       1|     0.99|2019-01-31|2019-01-31|          0|\n",
      "|77000000361655313|10005047720190831...|       1|     1.45|2019-01-31|2019-01-31|          0|\n",
      "|77000000361655313|10005047520190731...|       1|     1.79|2019-01-31|2019-01-31|          0|\n",
      "|77000000361655313|10005047720190831...|       1|     1.15|2019-01-31|2019-01-31|          0|\n",
      "|77000000361655313|10005047520190731...|       1|     0.99|2019-01-31|2019-01-31|          0|\n",
      "|77000000361655313|10005047720190831...|       1|     2.79|2019-01-31|2019-01-31|          0|\n",
      "|77000000361655313|10005047520190731...|       1|     0.37|2019-01-31|2019-01-31|          0|\n",
      "|77000000361655313|10005047720190831...|       1|     1.75|2019-01-31|2019-01-31|          0|\n",
      "|77000000361655313|10005047520190731...|       1|     0.89|2019-01-31|2019-01-31|          0|\n",
      "|77000000361655313|10005047720190831...|       1|     1.19|2019-01-31|2019-01-31|          0|\n",
      "|77000000361655313|10005047520190731...|       1|     1.19|2019-01-31|2019-01-31|          0|\n",
      "|77000000361655313|10005047720190831...|       1|     1.19|2019-01-31|2019-01-31|          0|\n",
      "|77000000361655313|10005047520190731...|       1|     5.29|2019-01-31|2019-01-31|          0|\n",
      "|77000000361655313|10005047720190831...|       1|     0.99|2019-01-31|2019-01-31|          0|\n",
      "|77000000361655313|10005047520190731...|       1|     0.59|2019-01-31|2019-01-31|          0|\n",
      "|77000000361655313|10005047720190831...|       1|     0.52|2019-01-31|2019-01-31|          0|\n",
      "|77000000361655313|10005047520190731...|       1|     1.99|2019-01-31|2019-01-31|          0|\n",
      "|77000000361655313|10005047720190831...|       1|     2.71|2019-01-31|2019-01-31|          0|\n",
      "|77000000361655313|10005047520190731...|       1|     1.05|2019-01-31|2019-01-31|          0|\n",
      "|77000000361655313|10005047720190831...|       1|     2.59|2019-01-31|2019-01-31|          0|\n",
      "|77000000361655313|10005047720190831...|       3|     1.11|2019-01-31|2019-01-31|          0|\n",
      "|77000000361655313|10005047720190831...|       0|      0.7|2019-01-31|2019-01-31|          0|\n",
      "|77000000361655313|10005047720190831...|       1|     1.99|2019-01-31|2019-01-31|          0|\n",
      "|77000000361655313|10005047720190831...|       1|     2.09|2019-01-31|2019-01-31|          0|\n",
      "|77000000361655313|10005047720190831...|       1|     1.39|2019-01-31|2019-01-31|          0|\n",
      "|77000000361655313|10005047720190831...|       1|     0.47|2019-01-31|2019-01-31|          0|\n",
      "|77000000361655313|10005047720190831...|       1|     1.51|2019-01-31|2019-01-31|          0|\n",
      "|77000000361655313|10005047720190831...|       1|     0.52|2019-01-31|2019-01-31|          0|\n",
      "|77000000361655313|10005047720190831...|       1|     2.29|2019-01-31|2019-01-31|          0|\n",
      "|77000000361655313|10005047720190831...|       1|     2.09|2019-01-31|2019-01-31|          0|\n",
      "|77000000361655313|10005047420190728...|       1|     1.51|2019-01-28|2019-01-31|          3|\n",
      "|77000000361655313|10005047420190728...|       1|     1.89|2019-01-28|2019-01-31|          3|\n",
      "|77000000361655313|10005047520190628...|       1|     0.99|2019-01-28|2019-01-31|          3|\n",
      "|77000000361655313|10005047520190628...|       1|     2.99|2019-01-28|2019-01-31|          3|\n",
      "|77000000361655313|10005047520190628...|       1|     0.59|2019-01-28|2019-01-31|          3|\n",
      "|77000000361655313|10005047520190628...|       1|     1.49|2019-01-28|2019-01-31|          3|\n",
      "|77000000361655313|10005047520190628...|       1|     1.25|2019-01-28|2019-01-31|          3|\n",
      "|77000000361655313|10005047420190728...|       1|     1.05|2019-01-28|2019-01-31|          3|\n",
      "|77000000361655313|10005047520190628...|       1|     0.37|2019-01-28|2019-01-31|          3|\n",
      "|77000000361655313|10005047520190628...|       1|     0.37|2019-01-28|2019-01-31|          3|\n",
      "|77000000361655313|10005047520190628...|       1|     1.99|2019-01-28|2019-01-31|          3|\n",
      "|77000000361655313|10005047520190628...|       1|     2.99|2019-01-28|2019-01-31|          3|\n",
      "|77000000361655313|10005047520190628...|       6|     3.48|2019-01-28|2019-01-31|          3|\n",
      "|77000000361655313|10005047520190628...|       1|     2.49|2019-01-28|2019-01-31|          3|\n",
      "|77000000361655313|10005047520190628...|       1|     1.45|2019-01-28|2019-01-31|          3|\n",
      "|77000000361655313|10005047420190728...|       1|     1.99|2019-01-28|2019-01-31|          3|\n",
      "|77000000361655313|10005047420190728...|       2|     0.98|2019-01-28|2019-01-31|          3|\n",
      "|77000000361655313|10005047420190728...|       1|     0.15|2019-01-28|2019-01-31|          3|\n",
      "|77000000361655313|10005047520190628...|       1|     1.09|2019-01-28|2019-01-31|          3|\n",
      "|77000000361655313|10005047520190628...|       1|     0.65|2019-01-28|2019-01-31|          3|\n",
      "|77000000361655313|10005047520190628...|       1|     0.24|2019-01-28|2019-01-31|          3|\n",
      "|77000000361655313|10005047520190628...|       1|     1.99|2019-01-28|2019-01-31|          3|\n",
      "|77000000361655313|10005047520190628...|       1|     3.49|2019-01-28|2019-01-31|          3|\n",
      "|77000000361655313|10005047520190628...|       1|     0.89|2019-01-28|2019-01-31|          3|\n",
      "|77000000361655313|10005047520190628...|       1|     1.79|2019-01-28|2019-01-31|          3|\n",
      "|77000000361655313|10005047520190628...|       1|     1.05|2019-01-28|2019-01-31|          3|\n",
      "|77000000361655313|10005047520190628...|       1|     1.29|2019-01-28|2019-01-31|          3|\n",
      "|77000000361655313|10005047520190628...|       1|     2.49|2019-01-28|2019-01-31|          3|\n",
      "|77000000361655313|10005047520190628...|       1|     1.99|2019-01-28|2019-01-31|          3|\n",
      "|77000000361655313|10005047420190728...|       1|     0.99|2019-01-28|2019-01-31|          3|\n",
      "|77000000361655313|10005047420190728...|       1|     1.99|2019-01-28|2019-01-31|          3|\n",
      "|77000000361655313|10005047220190626...|       1|     0.69|2019-01-26|2019-01-31|          5|\n",
      "|77000000361655313|10005047220190626...|       1|     1.19|2019-01-26|2019-01-31|          5|\n",
      "|77000000361655313|10005047220190626...|       1|     1.19|2019-01-26|2019-01-31|          5|\n",
      "|77000000361655313|10005047220190626...|       1|     0.29|2019-01-26|2019-01-31|          5|\n",
      "|77000000361655313|10005047220190626...|       1|     1.89|2019-01-26|2019-01-31|          5|\n",
      "|77000000361655313|10005047220190626...|       1|     0.59|2019-01-26|2019-01-31|          5|\n",
      "|77000000361655313|10005047220190626...|       0|     0.93|2019-01-26|2019-01-31|          5|\n",
      "+-----------------+--------------------+--------+---------+----------+----------+-----------+\n",
      "only showing top 100 rows"
     ]
    }
   ],
   "source": [
    "testing = tickets.select(\"customerid\",\"ticketid\",\"quantity\",\"unitprice\",\"date\",\"max_date\",\"recencydays\"). \\\n",
    "filter((tickets.customerid  == \"77000000361655313\" )).orderBy(\"recencydays\").show(100)"
   ]
  },
  {
   "cell_type": "code",
   "execution_count": 25,
   "metadata": {},
   "outputs": [
    {
     "data": {
      "application/vnd.jupyter.widget-view+json": {
       "model_id": "cfcea967da7e4d4983d048b6073a5b56",
       "version_major": 2,
       "version_minor": 0
      },
      "text/plain": [
       "VBox()"
      ]
     },
     "metadata": {},
     "output_type": "display_data"
    },
    {
     "data": {
      "application/vnd.jupyter.widget-view+json": {
       "model_id": "",
       "version_major": 2,
       "version_minor": 0
      },
      "text/plain": [
       "FloatProgress(value=0.0, bar_style='info', description='Progress:', layout=Layout(height='25px', width='50%'),…"
      ]
     },
     "metadata": {},
     "output_type": "display_data"
    },
    {
     "name": "stdout",
     "output_type": "stream",
     "text": [
      "+-----------------+-------+---------+--------+----------+----------+----------+---------+\n",
      "|       customerid|recency|frequency|monetary|r_quartile|f_quartile|m_quartile|rfm_score|\n",
      "+-----------------+-------+---------+--------+----------+----------+----------+---------+\n",
      "|77000000361655313|      0|       22|  754.42|         3|         3|         3|      333|\n",
      "+-----------------+-------+---------+--------+----------+----------+----------+---------+"
     ]
    }
   ],
   "source": [
    "rfm_table.filter((rfm_table.customerid  == \"77000000361655313\" )).show()"
   ]
  },
  {
   "cell_type": "code",
   "execution_count": 32,
   "metadata": {},
   "outputs": [
    {
     "data": {
      "application/vnd.jupyter.widget-view+json": {
       "model_id": "103b41116ccb4ec7954e537be85b8bf1",
       "version_major": 2,
       "version_minor": 0
      },
      "text/plain": [
       "VBox()"
      ]
     },
     "metadata": {},
     "output_type": "display_data"
    },
    {
     "data": {
      "application/vnd.jupyter.widget-view+json": {
       "model_id": "",
       "version_major": 2,
       "version_minor": 0
      },
      "text/plain": [
       "FloatProgress(value=0.0, bar_style='info', description='Progress:', layout=Layout(height='25px', width='50%'),…"
      ]
     },
     "metadata": {},
     "output_type": "display_data"
    },
    {
     "name": "stdout",
     "output_type": "stream",
     "text": [
      "+-----------------+-------+---------+------------------+----------+----------+----------+---------+\n",
      "|       customerid|recency|frequency|          monetary|r_quartile|f_quartile|m_quartile|rfm_score|\n",
      "+-----------------+-------+---------+------------------+----------+----------+----------+---------+\n",
      "|77000000283740839|      0|       17|220.78000000000003|         3|         3|         1|      331|\n",
      "|77000000288269187|      0|       17| 532.2000000000002|         3|         3|         3|      333|\n",
      "|77000000512270026|      0|       27|            317.23|         3|         4|         2|      342|\n",
      "|77000000475752145|      0|       31|1109.9099999999999|         3|         4|         4|      344|\n",
      "|77000000087916366|      0|       15|             174.7|         3|         2|         1|      321|\n",
      "|77000000109996185|      0|       14|            137.73|         3|         2|         1|      321|\n",
      "|77000000289524270|      0|       12|450.98999999999995|         3|         2|         2|      322|\n",
      "|77000000154553426|      0|       25|            480.74|         3|         4|         2|      342|\n",
      "|77000000532057541|      0|       11|            280.52|         3|         1|         1|      311|\n",
      "|77000000064335860|      0|       11|            553.94|         3|         1|         3|      313|\n",
      "|77000000696298135|      0|       19|            159.14|         3|         3|         1|      331|\n",
      "|77340000020598050|      0|       33|            284.38|         3|         4|         1|      341|\n",
      "|77000000065327685|      0|       17|            482.37|         3|         3|         2|      332|\n",
      "|77000000525414205|      0|       29|            661.32|         3|         4|         3|      343|\n",
      "|77000000867126096|      0|       12|            447.12|         3|         2|         2|      322|\n",
      "|77000000327860028|      0|       28|            255.57|         3|         4|         1|      341|\n",
      "|77000000510703476|      0|       19|1647.1500000000003|         3|         3|         4|      334|\n",
      "|77000000399330307|      0|       33|376.26000000000005|         3|         4|         2|      342|\n",
      "|77000000804621818|      0|       10|             141.5|         3|         1|         1|      311|\n",
      "|77000000513389212|      0|       32| 470.8099999999999|         3|         4|         2|      342|\n",
      "+-----------------+-------+---------+------------------+----------+----------+----------+---------+\n",
      "only showing top 20 rows"
     ]
    }
   ],
   "source": [
    "rfm_table.orderBy(\"recency\").show()"
   ]
  },
  {
   "cell_type": "markdown",
   "metadata": {},
   "source": [
    "**RFM ANALYSIS - QUARTILES**"
   ]
  },
  {
   "cell_type": "code",
   "execution_count": 43,
   "metadata": {},
   "outputs": [
    {
     "data": {
      "application/vnd.jupyter.widget-view+json": {
       "model_id": "98a57a9e022e4bd6b5f8d70637a718b8",
       "version_major": 2,
       "version_minor": 0
      },
      "text/plain": [
       "VBox()"
      ]
     },
     "metadata": {},
     "output_type": "display_data"
    },
    {
     "data": {
      "application/vnd.jupyter.widget-view+json": {
       "model_id": "",
       "version_major": 2,
       "version_minor": 0
      },
      "text/plain": [
       "FloatProgress(value=0.0, bar_style='info', description='Progress:', layout=Layout(height='25px', width='50%'),…"
      ]
     },
     "metadata": {},
     "output_type": "display_data"
    },
    {
     "name": "stdout",
     "output_type": "stream",
     "text": [
      "[0.0, 1.0, 2.0]\n",
      "[11.0, 16.0, 23.0]\n",
      "[297.77000000000004, 506.15999999999997, 862.6800000000001]"
     ]
    }
   ],
   "source": [
    "#create quartiles for each metric\n",
    "r_quartile = rfm_table.approxQuantile(\"recency\", [0.25, 0.5, 0.75], 0)\n",
    "f_quartile = rfm_table.approxQuantile(\"frequency\", [0.25, 0.5, 0.75], 0)\n",
    "m_quartile = rfm_table.approxQuantile(\"monetary\", [0.25, 0.5, 0.75], 0)\n",
    "print(r_quartile)\n",
    "print(f_quartile)\n",
    "print(m_quartile)"
   ]
  },
  {
   "cell_type": "code",
   "execution_count": 44,
   "metadata": {},
   "outputs": [
    {
     "data": {
      "application/vnd.jupyter.widget-view+json": {
       "model_id": "519fd0b2757d47a0a7016f4c01293c5e",
       "version_major": 2,
       "version_minor": 0
      },
      "text/plain": [
       "VBox()"
      ]
     },
     "metadata": {},
     "output_type": "display_data"
    },
    {
     "data": {
      "application/vnd.jupyter.widget-view+json": {
       "model_id": "",
       "version_major": 2,
       "version_minor": 0
      },
      "text/plain": [
       "FloatProgress(value=0.0, bar_style='info', description='Progress:', layout=Layout(height='25px', width='50%'),…"
      ]
     },
     "metadata": {},
     "output_type": "display_data"
    }
   ],
   "source": [
    "#assing score from 1 to 4 dependending on quantile\n",
    "\n",
    "rfm_table = rfm_table.withColumn(\"r_quartile\", \\\n",
    "                                 when(col(\"recency\") >= r_quartile[2] , 1).\\\n",
    "                                 when(col(\"recency\") >= r_quartile[1] , 2).\\\n",
    "                                 when(col(\"recency\") > r_quartile[0] , 3).\\\n",
    "                                 otherwise(4))\n",
    "\n",
    "rfm_table = rfm_table.withColumn(\"f_quartile\", \\\n",
    "                                 when(col(\"frequency\") > f_quartile[2] , 4).\\\n",
    "                                 when(col(\"frequency\") > f_quartile[1] , 3).\\\n",
    "                                 when(col(\"frequency\") > f_quartile[0] , 2).\\\n",
    "                                 otherwise(1))\n",
    "\n",
    "rfm_table = rfm_table.withColumn(\"m_quartile\", \\\n",
    "                                 when(col(\"monetary\") >= m_quartile[2] , 4).\\\n",
    "                                 when(col(\"monetary\") >= m_quartile[1] , 3).\\\n",
    "                                 when(col(\"monetary\") >= m_quartile[0] , 2).\\\n",
    "                                 otherwise(1))\n"
   ]
  },
  {
   "cell_type": "code",
   "execution_count": 45,
   "metadata": {},
   "outputs": [
    {
     "data": {
      "application/vnd.jupyter.widget-view+json": {
       "model_id": "297bf302a10d4ab1b3464ffba946c21a",
       "version_major": 2,
       "version_minor": 0
      },
      "text/plain": [
       "VBox()"
      ]
     },
     "metadata": {},
     "output_type": "display_data"
    },
    {
     "data": {
      "application/vnd.jupyter.widget-view+json": {
       "model_id": "",
       "version_major": 2,
       "version_minor": 0
      },
      "text/plain": [
       "FloatProgress(value=0.0, bar_style='info', description='Progress:', layout=Layout(height='25px', width='50%'),…"
      ]
     },
     "metadata": {},
     "output_type": "display_data"
    },
    {
     "name": "stdout",
     "output_type": "stream",
     "text": [
      "+-----------------+-------+---------+------------------+----------+----------+----------+---------+\n",
      "|       customerid|recency|frequency|          monetary|r_quartile|f_quartile|m_quartile|rfm_score|\n",
      "+-----------------+-------+---------+------------------+----------+----------+----------+---------+\n",
      "|77000000271450260|      0|       15|279.21999999999997|         4|         2|         1|      421|\n",
      "|77000000198474444|      7|       10| 653.5300000000002|         1|         1|         3|      113|\n",
      "|77000000288269187|      0|       17|             532.2|         4|         3|         3|      433|\n",
      "|77000000152299922|      2|       21|            713.66|         1|         3|         3|      133|\n",
      "|77000000087916366|      0|       15|             174.7|         4|         2|         1|      421|\n",
      "|77000000485557584|      0|        9| 813.5699999999999|         4|         1|         3|      413|\n",
      "|77000000191907447|      1|       31|            454.21|         2|         4|         2|      242|\n",
      "|77000000152400414|      1|       41| 872.1700000000002|         2|         4|         4|      244|\n",
      "|77000000269984105|      1|       11|265.78000000000003|         2|         1|         1|      211|\n",
      "|77000000376206671|      1|       12|58.510000000000005|         2|         2|         1|      221|\n",
      "|77000000057973048|      1|       13|            162.94|         2|         2|         1|      221|\n",
      "|77000000361655313|      0|       22| 754.4200000000001|         4|         3|         3|      433|\n",
      "|77000000539225356|      1|       16|            196.47|         2|         2|         1|      221|\n",
      "|77000000401454219|      0|       41|            977.94|         4|         4|         4|      444|\n",
      "|77000000451650749|      0|       25|218.66000000000003|         4|         4|         1|      441|\n",
      "|77000000286756763|      1|       25| 4413.639999999999|         2|         4|         4|      244|\n",
      "|77000000256391107|      1|       25|1103.6699999999996|         2|         4|         4|      244|\n",
      "|77000000080477048|      4|       12|298.65000000000003|         1|         2|         2|      122|\n",
      "|77000000596098202|      2|       10|            324.49|         1|         1|         2|      112|\n",
      "|77000000413433719|      0|       40|            525.82|         4|         4|         3|      443|\n",
      "+-----------------+-------+---------+------------------+----------+----------+----------+---------+\n",
      "only showing top 20 rows"
     ]
    }
   ],
   "source": [
    "rfm_table = rfm_table.withColumn(\"rfm_score\", concat(col(\"r_quartile\"), col(\"f_quartile\"), col(\"m_quartile\")))\n",
    "rfm_table.show()\n"
   ]
  },
  {
   "cell_type": "code",
   "execution_count": 46,
   "metadata": {},
   "outputs": [
    {
     "data": {
      "application/vnd.jupyter.widget-view+json": {
       "model_id": "db326d868d3544f49aea87439fbd6910",
       "version_major": 2,
       "version_minor": 0
      },
      "text/plain": [
       "VBox()"
      ]
     },
     "metadata": {},
     "output_type": "display_data"
    },
    {
     "data": {
      "application/vnd.jupyter.widget-view+json": {
       "model_id": "",
       "version_major": 2,
       "version_minor": 0
      },
      "text/plain": [
       "FloatProgress(value=0.0, bar_style='info', description='Progress:', layout=Layout(height='25px', width='50%'),…"
      ]
     },
     "metadata": {},
     "output_type": "display_data"
    }
   ],
   "source": [
    "rfm_table.coalesce(1).write.format('com.databricks.spark.csv').save('s3://aws-emr-resources-821081922153-us-east-2/notebooks/data/output_rfm.csv',header = 'true')"
   ]
  },
  {
   "cell_type": "code",
   "execution_count": null,
   "metadata": {},
   "outputs": [],
   "source": []
  }
 ],
 "metadata": {
  "kernelspec": {
   "display_name": "PySpark",
   "language": "",
   "name": "pysparkkernel"
  },
  "language_info": {
   "codemirror_mode": {
    "name": "python",
    "version": 2
   },
   "mimetype": "text/x-python",
   "name": "pyspark",
   "pygments_lexer": "python2"
  }
 },
 "nbformat": 4,
 "nbformat_minor": 4
}
