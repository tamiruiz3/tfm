{
 "cells": [
  {
   "cell_type": "code",
   "execution_count": 1,
   "metadata": {},
   "outputs": [
    {
     "data": {
      "application/vnd.jupyter.widget-view+json": {
       "model_id": "6dbe993075584358ba79ed486afca94a",
       "version_major": 2,
       "version_minor": 0
      },
      "text/plain": [
       "VBox()"
      ]
     },
     "metadata": {},
     "output_type": "display_data"
    },
    {
     "name": "stdout",
     "output_type": "stream",
     "text": [
      "Starting Spark application\n"
     ]
    },
    {
     "data": {
      "text/html": [
       "<table>\n",
       "<tr><th>ID</th><th>YARN Application ID</th><th>Kind</th><th>State</th><th>Spark UI</th><th>Driver log</th><th>Current session?</th></tr><tr><td>3</td><td>application_1598212531192_0004</td><td>pyspark</td><td>idle</td><td><a target=\"_blank\" href=\"http://ip-10-55-1-249.us-east-2.compute.internal:20888/proxy/application_1598212531192_0004/\">Link</a></td><td><a target=\"_blank\" href=\"http://ip-10-55-1-249.us-east-2.compute.internal:8042/node/containerlogs/container_1598212531192_0004_01_000001/livy\">Link</a></td><td>✔</td></tr></table>"
      ],
      "text/plain": [
       "<IPython.core.display.HTML object>"
      ]
     },
     "metadata": {},
     "output_type": "display_data"
    },
    {
     "data": {
      "application/vnd.jupyter.widget-view+json": {
       "model_id": "",
       "version_major": 2,
       "version_minor": 0
      },
      "text/plain": [
       "FloatProgress(value=0.0, bar_style='info', description='Progress:', layout=Layout(height='25px', width='50%'),…"
      ]
     },
     "metadata": {},
     "output_type": "display_data"
    },
    {
     "name": "stdout",
     "output_type": "stream",
     "text": [
      "SparkSession available as 'spark'.\n"
     ]
    },
    {
     "data": {
      "application/vnd.jupyter.widget-view+json": {
       "model_id": "",
       "version_major": 2,
       "version_minor": 0
      },
      "text/plain": [
       "FloatProgress(value=0.0, bar_style='info', description='Progress:', layout=Layout(height='25px', width='50%'),…"
      ]
     },
     "metadata": {},
     "output_type": "display_data"
    }
   ],
   "source": [
    "from pyspark.sql import SQLContext\n",
    "sqlContext = SQLContext(sc)\n",
    "from pyspark.sql.functions import *\n",
    "from pyspark.sql.types import *\n",
    "#sc.install_pypi_package(\"pandas==0.25.1\") #Install pandas version 0.25.1 \n",
    "#sc.install_pypi_package(\"matplotlib\", \"https://pypi.org/simple\") #Install matplotlib from given PyPI repository"
   ]
  },
  {
   "cell_type": "markdown",
   "metadata": {},
   "source": [
    "**DATA LOAD**\n"
   ]
  },
  {
   "cell_type": "code",
   "execution_count": 17,
   "metadata": {},
   "outputs": [
    {
     "data": {
      "application/vnd.jupyter.widget-view+json": {
       "model_id": "285809478e5c4c5cb159b46cc359cbe4",
       "version_major": 2,
       "version_minor": 0
      },
      "text/plain": [
       "VBox()"
      ]
     },
     "metadata": {},
     "output_type": "display_data"
    },
    {
     "data": {
      "application/vnd.jupyter.widget-view+json": {
       "model_id": "",
       "version_major": 2,
       "version_minor": 0
      },
      "text/plain": [
       "FloatProgress(value=0.0, bar_style='info', description='Progress:', layout=Layout(height='25px', width='50%'),…"
      ]
     },
     "metadata": {},
     "output_type": "display_data"
    }
   ],
   "source": [
    "#load stores\n",
    "customers  = sqlContext.read.json('s3://tfmbigdata/Files_Segunda_Entrega/stores.json')\n",
    "\n",
    "#load customers\n",
    "customers  = sqlContext.read.json('s3://tfmbigdata/Files_Segunda_Entrega/Customers.json')\n",
    "\n",
    "#load products\n",
    "products  = sqlContext.read.json('s3://tfmbigdata/Files_Segunda_Entrega/Products.json')"
   ]
  },
  {
   "cell_type": "code",
   "execution_count": 2,
   "metadata": {},
   "outputs": [
    {
     "data": {
      "application/vnd.jupyter.widget-view+json": {
       "model_id": "dcf32a46ebb44fe5b99877ae9e63b765",
       "version_major": 2,
       "version_minor": 0
      },
      "text/plain": [
       "VBox()"
      ]
     },
     "metadata": {},
     "output_type": "display_data"
    },
    {
     "data": {
      "application/vnd.jupyter.widget-view+json": {
       "model_id": "",
       "version_major": 2,
       "version_minor": 0
      },
      "text/plain": [
       "FloatProgress(value=0.0, bar_style='info', description='Progress:', layout=Layout(height='25px', width='50%'),…"
      ]
     },
     "metadata": {},
     "output_type": "display_data"
    }
   ],
   "source": [
    "#load tickets\n",
    "\n",
    "text = sc.textFile(\"s3://tfmbigdata/Files_Segunda_Entrega/Tickets_part0.json,s3://tfmbigdata/Files_Segunda_Entrega/Tickets_part1.json,s3://tfmbigdata/Files_Segunda_Entrega/Tickets_part2.json,s3://tfmbigdata/Files_Segunda_Entrega/Tickets_part3.json,s3://tfmbigdata/Files_Segunda_Entrega/Tickets_part4.json,s3://tfmbigdata/Files_Segunda_Entrega/Tickets_part5.json,s3://tfmbigdata/Files_Segunda_Entrega/Tickets_part6.json,s3://tfmbigdata/Files_Segunda_Entrega/Tickets_part7.json,s3://tfmbigdata/Files_Segunda_Entrega/Tickets_part8.json,s3://tfmbigdata/Files_Segunda_Entrega/Tickets_part9.json,s3://tfmbigdata/Files_Segunda_Entrega/Tickets_part10.json,s3://tfmbigdata/Files_Segunda_Entrega/Tickets_part11.json,s3://tfmbigdata/Files_Segunda_Entrega/Tickets_part12.json,s3://tfmbigdata/Files_Segunda_Entrega/Tickets_part13.json,s3://tfmbigdata/Files_Segunda_Entrega/Tickets_part14.json,s3://tfmbigdata/Files_Segunda_Entrega/Tickets_part15.json,s3://tfmbigdata/Files_Segunda_Entrega/Tickets_part16.json,s3://tfmbigdata/Files_Segunda_Entrega/Tickets_part17.json,s3://tfmbigdata/Files_Segunda_Entrega/Tickets_part18.json,s3://tfmbigdata/Files_Segunda_Entrega/Tickets_part19.json\")\n",
    "\n",
    "tickets = spark.read.json(text)\n"
   ]
  },
  {
   "cell_type": "markdown",
   "metadata": {},
   "source": [
    "\n",
    "**RFM**"
   ]
  },
  {
   "cell_type": "code",
   "execution_count": 3,
   "metadata": {},
   "outputs": [
    {
     "data": {
      "application/vnd.jupyter.widget-view+json": {
       "model_id": "853ba0269e5d423e9281c28859fbf77f",
       "version_major": 2,
       "version_minor": 0
      },
      "text/plain": [
       "VBox()"
      ]
     },
     "metadata": {},
     "output_type": "display_data"
    },
    {
     "data": {
      "application/vnd.jupyter.widget-view+json": {
       "model_id": "",
       "version_major": 2,
       "version_minor": 0
      },
      "text/plain": [
       "FloatProgress(value=0.0, bar_style='info', description='Progress:', layout=Layout(height='25px', width='50%'),…"
      ]
     },
     "metadata": {},
     "output_type": "display_data"
    },
    {
     "name": "stdout",
     "output_type": "stream",
     "text": [
      "root\n",
      " |-- cardtype: string (nullable = true)\n",
      " |-- customerid: string (nullable = true)\n",
      " |-- datekey: string (nullable = true)\n",
      " |-- extendedamount: double (nullable = true)\n",
      " |-- linenumber: long (nullable = true)\n",
      " |-- originalamount: double (nullable = true)\n",
      " |-- productid: long (nullable = true)\n",
      " |-- quantity: double (nullable = true)\n",
      " |-- storeid: string (nullable = true)\n",
      " |-- ticketid: string (nullable = true)\n",
      " |-- totaldiscount: double (nullable = true)"
     ]
    }
   ],
   "source": [
    "tickets.printSchema()"
   ]
  },
  {
   "cell_type": "code",
   "execution_count": 3,
   "metadata": {},
   "outputs": [
    {
     "data": {
      "application/vnd.jupyter.widget-view+json": {
       "model_id": "95019f17b0ac401fb18baa6410ab8b37",
       "version_major": 2,
       "version_minor": 0
      },
      "text/plain": [
       "VBox()"
      ]
     },
     "metadata": {},
     "output_type": "display_data"
    },
    {
     "data": {
      "application/vnd.jupyter.widget-view+json": {
       "model_id": "",
       "version_major": 2,
       "version_minor": 0
      },
      "text/plain": [
       "FloatProgress(value=0.0, bar_style='info', description='Progress:', layout=Layout(height='25px', width='50%'),…"
      ]
     },
     "metadata": {},
     "output_type": "display_data"
    }
   ],
   "source": [
    "#transform data types\n",
    "tickets = tickets.withColumn(\"quantity\", tickets[\"quantity\"].cast(IntegerType()))\n",
    "tickets = tickets.withColumn(\"unitprice\", tickets[\"extendedamount\"].cast(DoubleType()))\n",
    "tickets = tickets.withColumn(\"date\", to_date(\"datekey\", \"yyyy-mm-dd\"))\n",
    "\n",
    "#calculate recency \n",
    "max_df = tickets.select(max(\"date\")).collect()\n",
    "max_val = max_df[0][0]\n",
    "tickets = tickets.withColumn('max_date',lit(max_val))\n",
    "tickets = tickets.withColumn(\"recencydays\", expr(\"datediff(max_date, date)\"))\n",
    "\n",
    "#calculate amount spent for item \n",
    "tickets = tickets.withColumn(\"total\", round(tickets[\"unitprice\"] * tickets[\"quantity\"], 2))"
   ]
  },
  {
   "cell_type": "code",
   "execution_count": 36,
   "metadata": {},
   "outputs": [
    {
     "data": {
      "application/vnd.jupyter.widget-view+json": {
       "model_id": "615119a8a7eb48729dd54041c62dc8b9",
       "version_major": 2,
       "version_minor": 0
      },
      "text/plain": [
       "VBox()"
      ]
     },
     "metadata": {},
     "output_type": "display_data"
    },
    {
     "data": {
      "application/vnd.jupyter.widget-view+json": {
       "model_id": "",
       "version_major": 2,
       "version_minor": 0
      },
      "text/plain": [
       "FloatProgress(value=0.0, bar_style='info', description='Progress:', layout=Layout(height='25px', width='50%'),…"
      ]
     },
     "metadata": {},
     "output_type": "display_data"
    }
   ],
   "source": [
    "#calculate recency frequency and money by customer\n",
    "\n",
    "rfm_table = tickets.groupBy(\"customerid\")\\\n",
    "                        .agg(min(\"recencyDays\").alias(\"recency\"), \\\n",
    "                             countDistinct(\"ticketid\").alias(\"frequency\"), \\\n",
    "                             sum(\"total\").alias(\"monetary\"))"
   ]
  },
  {
   "cell_type": "code",
   "execution_count": 37,
   "metadata": {},
   "outputs": [
    {
     "data": {
      "application/vnd.jupyter.widget-view+json": {
       "model_id": "9316fbecc91b477e89f6f4bb9b4050bb",
       "version_major": 2,
       "version_minor": 0
      },
      "text/plain": [
       "VBox()"
      ]
     },
     "metadata": {},
     "output_type": "display_data"
    },
    {
     "data": {
      "application/vnd.jupyter.widget-view+json": {
       "model_id": "",
       "version_major": 2,
       "version_minor": 0
      },
      "text/plain": [
       "FloatProgress(value=0.0, bar_style='info', description='Progress:', layout=Layout(height='25px', width='50%'),…"
      ]
     },
     "metadata": {},
     "output_type": "display_data"
    }
   ],
   "source": [
    "rfm_table.write.format('csv').option('header',True).mode('overwrite').option('sep','|').save('/output.csv')"
   ]
  },
  {
   "cell_type": "markdown",
   "metadata": {},
   "source": [
    "**RFM RECONCILIATION - TO BE DELETED**"
   ]
  },
  {
   "cell_type": "code",
   "execution_count": null,
   "metadata": {},
   "outputs": [],
   "source": [
    "test=tickets.groupBy(\"customerid\").agg(countDistinct(\"ticketid\").alias(\"count\")).where('count > 1').sort('count', ascending=True).show()\n"
   ]
  },
  {
   "cell_type": "code",
   "execution_count": null,
   "metadata": {},
   "outputs": [],
   "source": [
    "testing = tickets.select(\"customerid\",\"ticketid\",\"quantity\",\"unitprice\",\"date\",\"max_date\",\"recencydays\"). \\\n",
    "filter((tickets.customerid  == \"77000000157129940\" )).orderBy(\"recencydays\").show(100)"
   ]
  },
  {
   "cell_type": "code",
   "execution_count": 34,
   "metadata": {},
   "outputs": [
    {
     "data": {
      "application/vnd.jupyter.widget-view+json": {
       "model_id": "d7324abf3cd148599e65f13361f731ed",
       "version_major": 2,
       "version_minor": 0
      },
      "text/plain": [
       "VBox()"
      ]
     },
     "metadata": {},
     "output_type": "display_data"
    },
    {
     "data": {
      "application/vnd.jupyter.widget-view+json": {
       "model_id": "",
       "version_major": 2,
       "version_minor": 0
      },
      "text/plain": [
       "FloatProgress(value=0.0, bar_style='info', description='Progress:', layout=Layout(height='25px', width='50%'),…"
      ]
     },
     "metadata": {},
     "output_type": "display_data"
    },
    {
     "name": "stdout",
     "output_type": "stream",
     "text": [
      "49729"
     ]
    }
   ],
   "source": [
    "rfm_table.filter((rfm_table.customerid  == \"77000000157129940\" )).show()"
   ]
  },
  {
   "cell_type": "code",
   "execution_count": null,
   "metadata": {},
   "outputs": [],
   "source": []
  }
 ],
 "metadata": {
  "kernelspec": {
   "display_name": "PySpark",
   "language": "",
   "name": "pysparkkernel"
  },
  "language_info": {
   "codemirror_mode": {
    "name": "python",
    "version": 2
   },
   "mimetype": "text/x-python",
   "name": "pyspark",
   "pygments_lexer": "python2"
  }
 },
 "nbformat": 4,
 "nbformat_minor": 4
}
