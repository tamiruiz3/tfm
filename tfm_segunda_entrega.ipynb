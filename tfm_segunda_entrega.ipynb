{
 "cells": [
  {
   "cell_type": "code",
   "execution_count": 1,
   "metadata": {},
   "outputs": [
    {
     "data": {
      "application/vnd.jupyter.widget-view+json": {
       "model_id": "db13a1e21ec74a8ea00f00dcbbb9bc0c",
       "version_major": 2,
       "version_minor": 0
      },
      "text/plain": [
       "VBox()"
      ]
     },
     "metadata": {},
     "output_type": "display_data"
    },
    {
     "name": "stdout",
     "output_type": "stream",
     "text": [
      "Starting Spark application\n"
     ]
    },
    {
     "data": {
      "text/html": [
       "<table>\n",
       "<tr><th>ID</th><th>YARN Application ID</th><th>Kind</th><th>State</th><th>Spark UI</th><th>Driver log</th><th>Current session?</th></tr><tr><td>2</td><td>application_1598212531192_0003</td><td>pyspark</td><td>idle</td><td><a target=\"_blank\" href=\"http://ip-10-55-1-249.us-east-2.compute.internal:20888/proxy/application_1598212531192_0003/\">Link</a></td><td><a target=\"_blank\" href=\"http://ip-10-55-1-249.us-east-2.compute.internal:8042/node/containerlogs/container_1598212531192_0003_01_000001/livy\">Link</a></td><td>✔</td></tr></table>"
      ],
      "text/plain": [
       "<IPython.core.display.HTML object>"
      ]
     },
     "metadata": {},
     "output_type": "display_data"
    },
    {
     "data": {
      "application/vnd.jupyter.widget-view+json": {
       "model_id": "",
       "version_major": 2,
       "version_minor": 0
      },
      "text/plain": [
       "FloatProgress(value=0.0, bar_style='info', description='Progress:', layout=Layout(height='25px', width='50%'),…"
      ]
     },
     "metadata": {},
     "output_type": "display_data"
    },
    {
     "name": "stdout",
     "output_type": "stream",
     "text": [
      "SparkSession available as 'spark'.\n"
     ]
    },
    {
     "data": {
      "application/vnd.jupyter.widget-view+json": {
       "model_id": "",
       "version_major": 2,
       "version_minor": 0
      },
      "text/plain": [
       "FloatProgress(value=0.0, bar_style='info', description='Progress:', layout=Layout(height='25px', width='50%'),…"
      ]
     },
     "metadata": {},
     "output_type": "display_data"
    }
   ],
   "source": [
    "from pyspark.sql import SQLContext\n",
    "sqlContext = SQLContext(sc)\n",
    "from pyspark.sql.functions import *\n",
    "from pyspark.sql.types import *\n",
    "#sc.install_pypi_package(\"pandas==0.25.1\") #Install pandas version 0.25.1 \n",
    "#sc.install_pypi_package(\"matplotlib\", \"https://pypi.org/simple\") #Install matplotlib from given PyPI repository"
   ]
  },
  {
   "cell_type": "markdown",
   "metadata": {},
   "source": [
    "**DATA LOAD**\n"
   ]
  },
  {
   "cell_type": "code",
   "execution_count": 17,
   "metadata": {},
   "outputs": [
    {
     "data": {
      "application/vnd.jupyter.widget-view+json": {
       "model_id": "285809478e5c4c5cb159b46cc359cbe4",
       "version_major": 2,
       "version_minor": 0
      },
      "text/plain": [
       "VBox()"
      ]
     },
     "metadata": {},
     "output_type": "display_data"
    },
    {
     "data": {
      "application/vnd.jupyter.widget-view+json": {
       "model_id": "",
       "version_major": 2,
       "version_minor": 0
      },
      "text/plain": [
       "FloatProgress(value=0.0, bar_style='info', description='Progress:', layout=Layout(height='25px', width='50%'),…"
      ]
     },
     "metadata": {},
     "output_type": "display_data"
    }
   ],
   "source": [
    "#load stores\n",
    "customers  = sqlContext.read.json('s3://tfmbigdata/Files_Segunda_Entrega/stores.json')\n",
    "\n",
    "#load customers\n",
    "customers  = sqlContext.read.json('s3://tfmbigdata/Files_Segunda_Entrega/Customers.json')\n",
    "\n",
    "#load products\n",
    "products  = sqlContext.read.json('s3://tfmbigdata/Files_Segunda_Entrega/Products.json')"
   ]
  },
  {
   "cell_type": "code",
   "execution_count": 2,
   "metadata": {},
   "outputs": [
    {
     "data": {
      "application/vnd.jupyter.widget-view+json": {
       "model_id": "3f2de989da4547d8807c5d1d1f7449e0",
       "version_major": 2,
       "version_minor": 0
      },
      "text/plain": [
       "VBox()"
      ]
     },
     "metadata": {},
     "output_type": "display_data"
    },
    {
     "data": {
      "application/vnd.jupyter.widget-view+json": {
       "model_id": "",
       "version_major": 2,
       "version_minor": 0
      },
      "text/plain": [
       "FloatProgress(value=0.0, bar_style='info', description='Progress:', layout=Layout(height='25px', width='50%'),…"
      ]
     },
     "metadata": {},
     "output_type": "display_data"
    }
   ],
   "source": [
    "#load tickets\n",
    "\n",
    "text = sc.textFile(\"s3://tfmbigdata/Files_Segunda_Entrega/Tickets_part0.json,s3://tfmbigdata/Files_Segunda_Entrega/Tickets_part1.json,s3://tfmbigdata/Files_Segunda_Entrega/Tickets_part2.json,s3://tfmbigdata/Files_Segunda_Entrega/Tickets_part3.json,s3://tfmbigdata/Files_Segunda_Entrega/Tickets_part4.json,s3://tfmbigdata/Files_Segunda_Entrega/Tickets_part5.json,s3://tfmbigdata/Files_Segunda_Entrega/Tickets_part6.json,s3://tfmbigdata/Files_Segunda_Entrega/Tickets_part7.json,s3://tfmbigdata/Files_Segunda_Entrega/Tickets_part8.json,s3://tfmbigdata/Files_Segunda_Entrega/Tickets_part9.json,s3://tfmbigdata/Files_Segunda_Entrega/Tickets_part10.json,s3://tfmbigdata/Files_Segunda_Entrega/Tickets_part11.json,s3://tfmbigdata/Files_Segunda_Entrega/Tickets_part12.json,s3://tfmbigdata/Files_Segunda_Entrega/Tickets_part13.json,s3://tfmbigdata/Files_Segunda_Entrega/Tickets_part14.json,s3://tfmbigdata/Files_Segunda_Entrega/Tickets_part15.json,s3://tfmbigdata/Files_Segunda_Entrega/Tickets_part16.json,s3://tfmbigdata/Files_Segunda_Entrega/Tickets_part17.json,s3://tfmbigdata/Files_Segunda_Entrega/Tickets_part18.json,s3://tfmbigdata/Files_Segunda_Entrega/Tickets_part19.json\")\n",
    "\n",
    "tickets = spark.read.json(text)\n"
   ]
  },
  {
   "cell_type": "markdown",
   "metadata": {},
   "source": [
    "**RFM**\n"
   ]
  },
  {
   "cell_type": "code",
   "execution_count": 3,
   "metadata": {},
   "outputs": [
    {
     "data": {
      "application/vnd.jupyter.widget-view+json": {
       "model_id": "853ba0269e5d423e9281c28859fbf77f",
       "version_major": 2,
       "version_minor": 0
      },
      "text/plain": [
       "VBox()"
      ]
     },
     "metadata": {},
     "output_type": "display_data"
    },
    {
     "data": {
      "application/vnd.jupyter.widget-view+json": {
       "model_id": "",
       "version_major": 2,
       "version_minor": 0
      },
      "text/plain": [
       "FloatProgress(value=0.0, bar_style='info', description='Progress:', layout=Layout(height='25px', width='50%'),…"
      ]
     },
     "metadata": {},
     "output_type": "display_data"
    },
    {
     "name": "stdout",
     "output_type": "stream",
     "text": [
      "root\n",
      " |-- cardtype: string (nullable = true)\n",
      " |-- customerid: string (nullable = true)\n",
      " |-- datekey: string (nullable = true)\n",
      " |-- extendedamount: double (nullable = true)\n",
      " |-- linenumber: long (nullable = true)\n",
      " |-- originalamount: double (nullable = true)\n",
      " |-- productid: long (nullable = true)\n",
      " |-- quantity: double (nullable = true)\n",
      " |-- storeid: string (nullable = true)\n",
      " |-- ticketid: string (nullable = true)\n",
      " |-- totaldiscount: double (nullable = true)"
     ]
    }
   ],
   "source": [
    "tickets.printSchema()"
   ]
  },
  {
   "cell_type": "code",
   "execution_count": 35,
   "metadata": {},
   "outputs": [
    {
     "data": {
      "application/vnd.jupyter.widget-view+json": {
       "model_id": "5d1c96d12a79416daf228f76a07d4805",
       "version_major": 2,
       "version_minor": 0
      },
      "text/plain": [
       "VBox()"
      ]
     },
     "metadata": {},
     "output_type": "display_data"
    },
    {
     "data": {
      "application/vnd.jupyter.widget-view+json": {
       "model_id": "",
       "version_major": 2,
       "version_minor": 0
      },
      "text/plain": [
       "FloatProgress(value=0.0, bar_style='info', description='Progress:', layout=Layout(height='25px', width='50%'),…"
      ]
     },
     "metadata": {},
     "output_type": "display_data"
    }
   ],
   "source": [
    "#transform data types\n",
    "tickets = tickets.withColumn(\"quantity\", tickets[\"quantity\"].cast(IntegerType()))\n",
    "tickets = tickets.withColumn(\"unitprice\", tickets[\"extendedamount\"].cast(DoubleType()))\n",
    "tickets = tickets.withColumn(\"date\", to_date(\"datekey\", \"yyyy-mm-dd\"))\n",
    "\n",
    "#calculate recency by customer and ticket\n",
    "max_df = tickets.select(max(\"date\")).collect()\n",
    "max_val = max_df[0][0]\n",
    "tickets = tickets.withColumn('max_date',lit(max_val))\n",
    "tickets = tickets.withColumn(\"recencydays\", expr(\"datediff(max_date, date)\"))\n",
    "\n",
    "#calculate amount spent by customer and ticket\n",
    "tickets = tickets.withColumn(\"total\", round(tickets[\"unitprice\"] * tickets[\"quantity\"], 2))"
   ]
  },
  {
   "cell_type": "code",
   "execution_count": 38,
   "metadata": {},
   "outputs": [
    {
     "data": {
      "application/vnd.jupyter.widget-view+json": {
       "model_id": "7dbdb78210d946e5996ec2522f48a134",
       "version_major": 2,
       "version_minor": 0
      },
      "text/plain": [
       "VBox()"
      ]
     },
     "metadata": {},
     "output_type": "display_data"
    },
    {
     "data": {
      "application/vnd.jupyter.widget-view+json": {
       "model_id": "",
       "version_major": 2,
       "version_minor": 0
      },
      "text/plain": [
       "FloatProgress(value=0.0, bar_style='info', description='Progress:', layout=Layout(height='25px', width='50%'),…"
      ]
     },
     "metadata": {},
     "output_type": "display_data"
    }
   ],
   "source": [
    "#calculate recency frequency and money by customer\n",
    "\n",
    "rfm_table = tickets.groupBy(\"customerid\")\\\n",
    "                        .agg(min(\"recencyDays\").alias(\"recency\"), \\\n",
    "                             count(\"ticketid\").alias(\"frequency\"), \\\n",
    "                             sum(\"total\").alias(\"monetary\"))"
   ]
  },
  {
   "cell_type": "code",
   "execution_count": 40,
   "metadata": {},
   "outputs": [
    {
     "data": {
      "application/vnd.jupyter.widget-view+json": {
       "model_id": "475fdbba06fa42468055ce4b58359411",
       "version_major": 2,
       "version_minor": 0
      },
      "text/plain": [
       "VBox()"
      ]
     },
     "metadata": {},
     "output_type": "display_data"
    },
    {
     "data": {
      "application/vnd.jupyter.widget-view+json": {
       "model_id": "",
       "version_major": 2,
       "version_minor": 0
      },
      "text/plain": [
       "FloatProgress(value=0.0, bar_style='info', description='Progress:', layout=Layout(height='25px', width='50%'),…"
      ]
     },
     "metadata": {},
     "output_type": "display_data"
    },
    {
     "name": "stdout",
     "output_type": "stream",
     "text": [
      "Row(customerid='77000000376206671', recency=1, frequency=27, monetary=58.510000000000005)"
     ]
    }
   ],
   "source": [
    "rfm_table.head()"
   ]
  },
  {
   "cell_type": "code",
   "execution_count": null,
   "metadata": {},
   "outputs": [],
   "source": []
  }
 ],
 "metadata": {
  "kernelspec": {
   "display_name": "PySpark",
   "language": "",
   "name": "pysparkkernel"
  },
  "language_info": {
   "codemirror_mode": {
    "name": "python",
    "version": 2
   },
   "mimetype": "text/x-python",
   "name": "pyspark",
   "pygments_lexer": "python2"
  }
 },
 "nbformat": 4,
 "nbformat_minor": 4
}
